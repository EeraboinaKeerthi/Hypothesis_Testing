{
 "cells": [
  {
   "cell_type": "code",
   "execution_count": 1,
   "id": "80d76bd5",
   "metadata": {},
   "outputs": [],
   "source": [
    "import pandas as pd\n",
    "import numpy as np\n",
    "from statsmodels.stats.proportion import proportions_ztest"
   ]
  },
  {
   "cell_type": "code",
   "execution_count": 2,
   "id": "f8037f95",
   "metadata": {},
   "outputs": [],
   "source": [
    "df = pd.read_csv(\"drug_safety.csv\")"
   ]
  },
  {
   "cell_type": "code",
   "execution_count": 3,
   "id": "2255674c",
   "metadata": {},
   "outputs": [
    {
     "data": {
      "text/html": [
       "<div>\n",
       "<style scoped>\n",
       "    .dataframe tbody tr th:only-of-type {\n",
       "        vertical-align: middle;\n",
       "    }\n",
       "\n",
       "    .dataframe tbody tr th {\n",
       "        vertical-align: top;\n",
       "    }\n",
       "\n",
       "    .dataframe thead th {\n",
       "        text-align: right;\n",
       "    }\n",
       "</style>\n",
       "<table border=\"1\" class=\"dataframe\">\n",
       "  <thead>\n",
       "    <tr style=\"text-align: right;\">\n",
       "      <th></th>\n",
       "      <th>age</th>\n",
       "      <th>sex</th>\n",
       "      <th>trx</th>\n",
       "      <th>week</th>\n",
       "      <th>wbc</th>\n",
       "      <th>rbc</th>\n",
       "      <th>adverse_effects</th>\n",
       "      <th>num_effects</th>\n",
       "    </tr>\n",
       "  </thead>\n",
       "  <tbody>\n",
       "    <tr>\n",
       "      <th>0</th>\n",
       "      <td>62</td>\n",
       "      <td>male</td>\n",
       "      <td>Drug</td>\n",
       "      <td>0</td>\n",
       "      <td>7.3</td>\n",
       "      <td>5.1</td>\n",
       "      <td>No</td>\n",
       "      <td>0</td>\n",
       "    </tr>\n",
       "    <tr>\n",
       "      <th>1</th>\n",
       "      <td>62</td>\n",
       "      <td>male</td>\n",
       "      <td>Drug</td>\n",
       "      <td>1</td>\n",
       "      <td>NaN</td>\n",
       "      <td>NaN</td>\n",
       "      <td>No</td>\n",
       "      <td>0</td>\n",
       "    </tr>\n",
       "    <tr>\n",
       "      <th>2</th>\n",
       "      <td>62</td>\n",
       "      <td>male</td>\n",
       "      <td>Drug</td>\n",
       "      <td>12</td>\n",
       "      <td>5.6</td>\n",
       "      <td>5.0</td>\n",
       "      <td>No</td>\n",
       "      <td>0</td>\n",
       "    </tr>\n",
       "    <tr>\n",
       "      <th>3</th>\n",
       "      <td>62</td>\n",
       "      <td>male</td>\n",
       "      <td>Drug</td>\n",
       "      <td>16</td>\n",
       "      <td>NaN</td>\n",
       "      <td>NaN</td>\n",
       "      <td>No</td>\n",
       "      <td>0</td>\n",
       "    </tr>\n",
       "    <tr>\n",
       "      <th>4</th>\n",
       "      <td>62</td>\n",
       "      <td>male</td>\n",
       "      <td>Drug</td>\n",
       "      <td>2</td>\n",
       "      <td>6.6</td>\n",
       "      <td>5.1</td>\n",
       "      <td>No</td>\n",
       "      <td>0</td>\n",
       "    </tr>\n",
       "  </tbody>\n",
       "</table>\n",
       "</div>"
      ],
      "text/plain": [
       "   age   sex   trx  week  wbc  rbc adverse_effects  num_effects\n",
       "0   62  male  Drug     0  7.3  5.1              No            0\n",
       "1   62  male  Drug     1  NaN  NaN              No            0\n",
       "2   62  male  Drug    12  5.6  5.0              No            0\n",
       "3   62  male  Drug    16  NaN  NaN              No            0\n",
       "4   62  male  Drug     2  6.6  5.1              No            0"
      ]
     },
     "execution_count": 3,
     "metadata": {},
     "output_type": "execute_result"
    }
   ],
   "source": [
    "df.head()"
   ]
  },
  {
   "cell_type": "code",
   "execution_count": 4,
   "id": "49d39b1d",
   "metadata": {},
   "outputs": [
    {
     "name": "stdout",
     "output_type": "stream",
     "text": [
      "<class 'pandas.core.frame.DataFrame'>\n",
      "RangeIndex: 16103 entries, 0 to 16102\n",
      "Data columns (total 8 columns):\n",
      " #   Column           Non-Null Count  Dtype  \n",
      "---  ------           --------------  -----  \n",
      " 0   age              16103 non-null  int64  \n",
      " 1   sex              16103 non-null  object \n",
      " 2   trx              16103 non-null  object \n",
      " 3   week             16103 non-null  int64  \n",
      " 4   wbc              9128 non-null   float64\n",
      " 5   rbc              9127 non-null   float64\n",
      " 6   adverse_effects  16103 non-null  object \n",
      " 7   num_effects      16103 non-null  int64  \n",
      "dtypes: float64(2), int64(3), object(3)\n",
      "memory usage: 1006.6+ KB\n"
     ]
    }
   ],
   "source": [
    "df.info()"
   ]
  },
  {
   "cell_type": "code",
   "execution_count": 5,
   "id": "cbe52cd6",
   "metadata": {},
   "outputs": [],
   "source": [
    "# Convert 'adverse_effects' column to binary (1 = Yes, 0 = No)\n",
    "df['adverse_effects'] = df['adverse_effects'].apply(lambda x: 1 if x == \"Yes\" else 0)\n"
   ]
  },
  {
   "cell_type": "code",
   "execution_count": 6,
   "id": "473ceec3",
   "metadata": {},
   "outputs": [],
   "source": [
    "# Separate Drug and Placebo groups\n",
    "drug_group = df[df['trx'] == 'Drug']\n",
    "placebo_group = df[df['trx'] == 'Placebo']"
   ]
  },
  {
   "cell_type": "code",
   "execution_count": 7,
   "id": "be6665d2",
   "metadata": {},
   "outputs": [],
   "source": [
    "\n",
    "# Count the number of participants with adverse effects in each group\n",
    "drug_adverse_count = drug_group['adverse_effects'].sum()\n",
    "placebo_adverse_count = placebo_group['adverse_effects'].sum()\n"
   ]
  },
  {
   "cell_type": "code",
   "execution_count": 9,
   "id": "ca3c0613",
   "metadata": {},
   "outputs": [],
   "source": [
    "# Total number of participants in each group\n",
    "drug_total = len(drug_group)\n",
    "placebo_total = len(placebo_group)"
   ]
  },
  {
   "cell_type": "code",
   "execution_count": 13,
   "id": "3770f86c",
   "metadata": {},
   "outputs": [],
   "source": [
    "# Perform Two-Proportion Z-Test\n",
    "count = np.array([drug_adverse_count, placebo_adverse_count])  # Number of adverse effects\n",
    "nobs = np.array([drug_total, placebo_total])  # Total participants\n",
    "z_stat, p_value = proportions_ztest(count, nobs, alternative='two-sided')\n"
   ]
  },
  {
   "cell_type": "code",
   "execution_count": 14,
   "id": "16cb861c",
   "metadata": {},
   "outputs": [
    {
     "name": "stdout",
     "output_type": "stream",
     "text": [
      "0.0452182684494942\n"
     ]
    }
   ],
   "source": [
    "print(z_stat)"
   ]
  },
  {
   "cell_type": "code",
   "execution_count": 15,
   "id": "23d6f0f5",
   "metadata": {},
   "outputs": [
    {
     "name": "stdout",
     "output_type": "stream",
     "text": [
      "0.9639333330262475\n"
     ]
    }
   ],
   "source": [
    "print(p_value)"
   ]
  },
  {
   "cell_type": "code",
   "execution_count": 17,
   "id": "b46e1efc",
   "metadata": {},
   "outputs": [
    {
     "name": "stdout",
     "output_type": "stream",
     "text": [
      "\n",
      "Conclusion: Fail to reject the null hypothesis (H₀). No strong evidence of a difference in adverse effects between the groups.\n"
     ]
    }
   ],
   "source": [
    "alpha = 0.05\n",
    "if p_value < alpha:\n",
    "    print(\"\\nConclusion: Reject the null hypothesis (H₀). There is a significant difference in adverse effects between the drug and placebo groups.\")\n",
    "else:\n",
    "    print(\"\\nConclusion: Fail to reject the null hypothesis (H₀). No strong evidence of a difference in adverse effects between the groups.\")\n"
   ]
  },
  {
   "cell_type": "code",
   "execution_count": 20,
   "id": "77109713",
   "metadata": {},
   "outputs": [
    {
     "data": {
      "image/png": "[encoded data removed]",
      "text/plain": [
       "<Figure size 600x400 with 1 Axes>"
      ]
     },
     "metadata": {},
     "output_type": "display_data"
    }
   ],
   "source": [
    "# Visualization\n",
    "import matplotlib.pyplot as plt\n",
    "labels = ['Drug', 'Placebo']\n",
    "adverse_effects_proportions = [drug_adverse_count / drug_total, placebo_adverse_count / placebo_total]\n",
    "\n",
    "plt.figure(figsize=(6, 4))\n",
    "plt.bar(labels, adverse_effects_proportions, color=['blue', 'red'], alpha=0.7)\n",
    "plt.ylabel(\"Proportion of Adverse Effects\")\n",
    "plt.title(\"Comparison of Adverse Effects: Drug vs Placebo\")\n",
    "plt.ylim(0, max(adverse_effects_proportions) + 0.05)\n",
    "plt.show()"
   ]
  },
  {
   "cell_type": "code",
   "execution_count": 27,
   "id": "945088eb",
   "metadata": {},
   "outputs": [
    {
     "name": "stdout",
     "output_type": "stream",
     "text": [
      "0.6150123339426765\n",
      "Conclusion: There is no significant association between treatment and adverse effects.\n"
     ]
    }
   ],
   "source": [
    "# Chi-square test for independence\n",
    "import scipy.stats as stats\n",
    "contingency_table = pd.crosstab(df[\"num_effects\"], df[\"trx\"])\n",
    "\n",
    "# Perform Chi-square test for independence\n",
    "chi2_stat, p_value1, dof, expected = stats.chi2_contingency(contingency_table)\n",
    "\n",
    "print(p_value1)\n",
    "# Interpretation\n",
    "if p_value1 < 0.05:\n",
    "    print(\"Conclusion: There is a significant association between treatment and adverse effects.\")\n",
    "else:\n",
    "    print(\"Conclusion: There is no significant association between treatment and adverse effects.\")"
   ]
  },
  {
   "cell_type": "code",
   "execution_count": 25,
   "id": "1f12ca98",
   "metadata": {},
   "outputs": [
    {
     "name": "stdout",
     "output_type": "stream",
     "text": [
      "P-value for Age Difference: 0.1403138130413439\n"
     ]
    }
   ],
   "source": [
    "#t-Test\n",
    "from scipy.stats import ttest_ind\n",
    "# Separate the ages for Drug and Placebo groups\n",
    "drug_ages = df[df['trx'] == 'Drug']['age']\n",
    "placebo_ages = df[df['trx'] == 'Placebo']['age']\n",
    "\n",
    "# Perform an independent t-test\n",
    "t_stat, age_p_value = ttest_ind(drug_ages, placebo_ages, equal_var=False)  # Welch's t-test\n",
    "\n",
    "# Output the p-value\n",
    "print(f\"P-value for Age Difference: {age_p_value}\")"
   ]
  },
  {
   "cell_type": "code",
   "execution_count": null,
   "id": "c0e30abb",
   "metadata": {},
   "outputs": [],
   "source": []
  }
 ],
 "metadata": {
  "kernelspec": {
   "display_name": "Python 3 (ipykernel)",
   "language": "python",
   "name": "python3"
  },
  "language_info": {
   "codemirror_mode": {
    "name": "ipython",
    "version": 3
   },
   "file_extension": ".py",
   "mimetype": "text/x-python",
   "name": "python",
   "nbconvert_exporter": "python",
   "pygments_lexer": "ipython3",
   "version": "3.11.5"
  }
 },
 "nbformat": 4,
 "nbformat_minor": 5
}
